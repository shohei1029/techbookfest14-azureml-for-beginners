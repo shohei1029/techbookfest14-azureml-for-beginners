{
  "cells": [
    {
      "cell_type": "code",
      "execution_count": null,
      "metadata": {
        "gather": {
          "logged": 1680627497966
        },
        "jupyter": {
          "outputs_hidden": false,
          "source_hidden": false
        },
        "nteract": {
          "transient": {
            "deleting": false
          }
        }
      },
      "outputs": [],
      "source": [
        "from transformers import AutoTokenizer, AutoModelForCausalLM, pipeline\n",
        "from huggingface_hub import snapshot_download\n",
        "import torch\n",
        "import mlflow\n",
        "import pandas as pd"
      ]
    },
    {
      "cell_type": "code",
      "execution_count": null,
      "metadata": {
        "gather": {
          "logged": 1680627498112
        },
        "jupyter": {
          "outputs_hidden": false,
          "source_hidden": false
        },
        "nteract": {
          "transient": {
            "deleting": false
          }
        }
      },
      "outputs": [],
      "source": [
        "REPO_ID = \"cerebras/Cerebras-GPT-111M\"\n",
        "download_path = snapshot_download(repo_id=REPO_ID)"
      ]
    },
    {
      "cell_type": "code",
      "execution_count": null,
      "metadata": {
        "gather": {
          "logged": 1680627502547
        },
        "jupyter": {
          "outputs_hidden": false,
          "source_hidden": false
        },
        "nteract": {
          "transient": {
            "deleting": false
          }
        }
      },
      "outputs": [],
      "source": [
        "tokenizer = AutoTokenizer.from_pretrained(download_path)\n",
        "model = AutoModelForCausalLM.from_pretrained(download_path)\n",
        "\n",
        "pipe = pipeline(\n",
        "    task=\"text-generation\",\n",
        "    model=model,\n",
        "    tokenizer=tokenizer,\n",
        "    device=torch.device(type='cuda', index=0)\n",
        ")"
      ]
    },
    {
      "cell_type": "code",
      "execution_count": null,
      "metadata": {
        "gather": {
          "logged": 1680627505202
        },
        "jupyter": {
          "outputs_hidden": false,
          "source_hidden": false
        },
        "nteract": {
          "transient": {
            "deleting": false
          }
        }
      },
      "outputs": [],
      "source": [
        "prompts = {\"prompts\": [\"Generative AI is\", \"So, today we are\"]}\n",
        "input_df = pd.DataFrame(prompts)\n",
        "\n",
        "generated_text = pipe(\n",
        "    input_df[\"prompts\"].values.tolist(),\n",
        "    max_length=256,\n",
        "    do_sample=False,\n",
        "    no_repeat_ngram_size=2\n",
        ")\n",
        "\n",
        "outputs = [text[0]['generated_text'] for text in generated_text]\n",
        "output_df = pd.DataFrame({\"outputs\": outputs})\n",
        "print(output_df)"
      ]
    },
    {
      "cell_type": "code",
      "execution_count": null,
      "metadata": {
        "gather": {
          "logged": 1680627505477
        },
        "jupyter": {
          "outputs_hidden": false,
          "source_hidden": false
        },
        "nteract": {
          "transient": {
            "deleting": false
          }
        }
      },
      "outputs": [],
      "source": [
        "signature = mlflow.models.signature.infer_signature(\n",
        "    input_df,\n",
        "    output_df    \n",
        ")\n",
        "\n",
        "artifacts = {\"cached_model_path\": download_path}\n",
        "\n",
        "class LLMWrapper(mlflow.pyfunc.PythonModel):\n",
        "    def load_context(self, context):\n",
        "        from transformers import AutoTokenizer, AutoModelForCausalLM, pipeline\n",
        "        import torch\n",
        "        self.tokenizer = AutoTokenizer.from_pretrained(\n",
        "            context.artifacts[\"cached_model_path\"]\n",
        "        ) \n",
        "        self.model = AutoModelForCausalLM.from_pretrained(\n",
        "            context.artifacts[\"cached_model_path\"]\n",
        "        )\n",
        "        self.pipe = pipeline(\n",
        "            task=\"text-generation\",\n",
        "            model=model,\n",
        "            tokenizer=tokenizer,\n",
        "            device=torch.device(type='cuda', index=0)\n",
        "        )\n",
        "    def predict(self, context, model_input):\n",
        "        generated_text = self.pipe(\n",
        "            model_input[\"prompts\"].values.tolist(),\n",
        "            max_length=256,\n",
        "            do_sample=False,\n",
        "            no_repeat_ngram_size=2\n",
        "        )\n",
        "        outputs = [text[0]['generated_text'] for text in generated_text]\n",
        "        output_df = pd.DataFrame({\"outputs\": outputs})\n",
        "        return outputs"
      ]
    },
    {
      "cell_type": "code",
      "execution_count": null,
      "metadata": {
        "gather": {
          "logged": 1680627508115
        },
        "jupyter": {
          "outputs_hidden": false,
          "source_hidden": false
        },
        "nteract": {
          "transient": {
            "deleting": false
          }
        }
      },
      "outputs": [],
      "source": [
        "from azure.ai.ml import MLClient\n",
        "from azure.identity import DefaultAzureCredential\n",
        "\n",
        "subscription_id = \"SUBSCRIPTION_ID\"\n",
        "resource_group = \"RESOURCE_GROUP\"\n",
        "workspace = \"AML_WORKSPACE_NAME\"\n",
        "\n",
        "ml_client = MLClient(\n",
        "    DefaultAzureCredential(),\n",
        "    subscription_id,\n",
        "    resource_group,\n",
        "    workspace,\n",
        ")\n",
        "\n",
        "azureml_mlflow_uri = ml_client.workspaces.get(\n",
        "    ml_client.workspace_name\n",
        ").mlflow_tracking_uri\n",
        "\n",
        "mlflow.set_tracking_uri(azureml_mlflow_uri)\n",
        "\n",
        "exp = mlflow.set_experiment(\"chapter6-llm-notebook\")"
      ]
    },
    {
      "cell_type": "code",
      "execution_count": null,
      "metadata": {
        "gather": {
          "logged": 1680627529716
        },
        "jupyter": {
          "outputs_hidden": false,
          "source_hidden": false
        },
        "nteract": {
          "transient": {
            "deleting": false
          }
        }
      },
      "outputs": [],
      "source": [
        "with mlflow.start_run() as run:\n",
        "    mlflow_model_dir = 'llm_model'\n",
        "    mlflow.pyfunc.log_model(\n",
        "        artifact_path=mlflow_model_dir,\n",
        "        python_model=LLMWrapper(),\n",
        "        conda_env='environment.yaml',\n",
        "        artifacts=artifacts,\n",
        "        signature=signature,\n",
        "    )"
      ]
    },
    {
      "cell_type": "code",
      "execution_count": null,
      "metadata": {
        "gather": {
          "logged": 1680627545742
        },
        "jupyter": {
          "outputs_hidden": false,
          "source_hidden": false
        },
        "nteract": {
          "transient": {
            "deleting": false
          }
        }
      },
      "outputs": [],
      "source": [
        "loaded_model = mlflow.pyfunc.load_model(\n",
        "    model_uri=f\"runs:/{run.info.run_id}/{mlflow_model_dir}/\",\n",
        ")"
      ]
    },
    {
      "cell_type": "code",
      "execution_count": null,
      "metadata": {
        "gather": {
          "logged": 1680627547892
        },
        "jupyter": {
          "outputs_hidden": false,
          "source_hidden": false
        },
        "nteract": {
          "transient": {
            "deleting": false
          }
        }
      },
      "outputs": [],
      "source": [
        "sample_prompts = {\"prompts\": [\"Generative AI is\", \"So, today we are\"]}\n",
        "sample_input_df = pd.DataFrame(prompts)\n",
        "\n",
        "print(loaded_model.predict(sample_input_df))"
      ]
    },
    {
      "cell_type": "code",
      "execution_count": null,
      "metadata": {
        "gather": {
          "logged": 1680627548943
        },
        "jupyter": {
          "outputs_hidden": false,
          "source_hidden": false
        },
        "nteract": {
          "transient": {
            "deleting": false
          }
        }
      },
      "outputs": [],
      "source": [
        "mlflow.register_model(\n",
        "    model_uri=f\"runs:/{run.info.run_id}/{mlflow_model_dir}/\",\n",
        "    name='chapter6-cerebras-gpt'\n",
        ")"
      ]
    },
    {
      "cell_type": "code",
      "execution_count": null,
      "metadata": {
        "jupyter": {
          "outputs_hidden": false,
          "source_hidden": false
        },
        "nteract": {
          "transient": {
            "deleting": false
          }
        }
      },
      "outputs": [],
      "source": []
    }
  ],
  "metadata": {
    "kernel_info": {
      "name": "py310-chapter6-env"
    },
    "kernelspec": {
      "display_name": "py310-chapter6-env",
      "language": "python",
      "name": "py310-chapter6-env"
    },
    "language_info": {
      "codemirror_mode": {
        "name": "ipython",
        "version": 3
      },
      "file_extension": ".py",
      "mimetype": "text/x-python",
      "name": "python",
      "nbconvert_exporter": "python",
      "pygments_lexer": "ipython3",
      "version": "3.10.10"
    },
    "microsoft": {
      "host": {
        "AzureML": {
          "notebookHasBeenCompleted": true
        }
      }
    },
    "nteract": {
      "version": "nteract-front-end@1.0.0"
    }
  },
  "nbformat": 4,
  "nbformat_minor": 2
}
