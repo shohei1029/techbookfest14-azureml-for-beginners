{
  "cells": [
    {
      "cell_type": "code",
      "execution_count": null,
      "metadata": {
        "gather": {
          "logged": 1680341351331
        }
      },
      "outputs": [],
      "source": [
        "from azure.ai.ml import MLClient, command, Input\n",
        "from azure.identity import DefaultAzureCredential\n",
        "from azure.ai.ml.entities import Environment, AmlCompute"
      ]
    },
    {
      "cell_type": "code",
      "execution_count": null,
      "metadata": {
        "gather": {
          "logged": 1680341351972
        }
      },
      "outputs": [],
      "source": [
        "subscription_id = \"SUBSCRIPTION_ID\"\n",
        "resource_group = \"RESOURCE_GROUP\"\n",
        "workspace = \"AML_WORKSPACE_NAME\"\n",
        "\n",
        "ml_client = MLClient(\n",
        "    DefaultAzureCredential(),\n",
        "    subscription_id,\n",
        "    resource_group,\n",
        "    workspace,\n",
        ")"
      ]
    },
    {
      "cell_type": "code",
      "execution_count": null,
      "metadata": {
        "gather": {
          "logged": 1680341352972
        }
      },
      "outputs": [],
      "source": [
        "cpu_compute_target = \"cpu-cluster\"\n",
        "\n",
        "try:\n",
        "    cpu_cluster = ml_client.compute.get(cpu_compute_target)\n",
        "    print(\n",
        "        f\"{cpu_compute_target}と同一名称のクラスタが存在するので既存クラスタを使用します\"\n",
        "    )\n",
        "\n",
        "except Exception:\n",
        "    print(\"新しいコンピューティングクラスタを作成します\")\n",
        "\n",
        "    cpu_cluster = AmlCompute(\n",
        "        name=cpu_compute_target,\n",
        "        type=\"amlcompute\",\n",
        "        size=\"Standard_D2s_v3\",\n",
        "        min_instances=0,\n",
        "        max_instances=3,\n",
        "        idle_time_before_scale_down=180,\n",
        "        tier=\"Dedicated\",\n",
        "    )\n",
        "    print(\n",
        "        f\"クラスタ名 {cpu_cluster.name} 、VMサイズ {cpu_cluster.size} でクラスタ作成します\"\n",
        "    )\n",
        "\n",
        "    cpu_cluster = ml_client.compute.begin_create_or_update(cpu_cluster)"
      ]
    },
    {
      "cell_type": "code",
      "execution_count": null,
      "metadata": {
        "gather": {
          "logged": 1680341353971
        }
      },
      "outputs": [],
      "source": [
        "custom_env_name = \"aml-lightgbm\"\n",
        "\n",
        "job_env = Environment(\n",
        "    name=custom_env_name,\n",
        "    description=\"クレジットカードのデフォルトを推論するモデルを学習するためのカスタム環境\",\n",
        "    conda_file=\"senvironment.yaml\",\n",
        "    image=\"mcr.microsoft.com/azureml/openmpi4.1.0-ubuntu20.04:latest\",\n",
        ")\n",
        "job_env = ml_client.environments.create_or_update(job_env)\n",
        "\n",
        "print(\n",
        "    f\"{job_env.name} 環境をワークスペースへ登録しました。環境バージョンは {job_env.version} です。\"\n",
        ")"
      ]
    },
    {
      "cell_type": "code",
      "execution_count": null,
      "metadata": {
        "gather": {
          "logged": 1680341354059
        }
      },
      "outputs": [],
      "source": [
        "job = command(\n",
        "    inputs=dict(mode='remote'),\n",
        "    code=\"./src/\",\n",
        "    command=\"python chapter5_job.py --mode ${{inputs.mode}}\",\n",
        "    environment=\"aml-lightgbm@latest\",\n",
        "    compute=cpu_compute_target,\n",
        "    experiment_name=\"chapter5-lightgbm-job\",\n",
        ")"
      ]
    },
    {
      "cell_type": "code",
      "execution_count": null,
      "metadata": {
        "gather": {
          "logged": 1680341741033
        },
        "jupyter": {
          "outputs_hidden": false,
          "source_hidden": false
        },
        "nteract": {
          "transient": {
            "deleting": false
          }
        }
      },
      "outputs": [],
      "source": [
        "job = ml_client.create_or_update(job)\n",
        "ml_client.jobs.stream(job.name)"
      ]
    },
    {
      "cell_type": "code",
      "execution_count": null,
      "metadata": {
        "jupyter": {
          "outputs_hidden": false,
          "source_hidden": false
        },
        "nteract": {
          "transient": {
            "deleting": false
          }
        }
      },
      "outputs": [],
      "source": []
    }
  ],
  "metadata": {
    "kernel_info": {
      "name": "python310-sdkv2"
    },
    "kernelspec": {
      "display_name": "Python 3.10 - SDK V2",
      "language": "python",
      "name": "python310-sdkv2"
    },
    "language_info": {
      "codemirror_mode": {
        "name": "ipython",
        "version": 3
      },
      "file_extension": ".py",
      "mimetype": "text/x-python",
      "name": "python",
      "nbconvert_exporter": "python",
      "pygments_lexer": "ipython3",
      "version": "3.10.6"
    },
    "microsoft": {
      "host": {
        "AzureML": {
          "notebookHasBeenCompleted": true
        }
      }
    },
    "nteract": {
      "version": "nteract-front-end@1.0.0"
    }
  },
  "nbformat": 4,
  "nbformat_minor": 2
}
