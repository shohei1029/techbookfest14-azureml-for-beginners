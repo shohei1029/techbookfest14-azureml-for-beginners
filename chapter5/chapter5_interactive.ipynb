{
  "cells": [
    {
      "cell_type": "code",
      "execution_count": null,
      "metadata": {
        "gather": {
          "logged": 1680620030609
        }
      },
      "outputs": [],
      "source": [
        "import os\n",
        "from typing import Callable\n",
        "\n",
        "import pandas as pd\n",
        "import lightgbm as lgb\n",
        "from sklearn.metrics import classification_report\n",
        "from sklearn.model_selection import train_test_split\n",
        "\n",
        "import mlflow\n",
        "\n",
        "from azure.ai.ml import MLClient\n",
        "from azure.identity import DefaultAzureCredential"
      ]
    },
    {
      "cell_type": "code",
      "execution_count": null,
      "metadata": {
        "gather": {
          "logged": 1680620030631
        },
        "jupyter": {
          "outputs_hidden": false,
          "source_hidden": false
        },
        "nteract": {
          "transient": {
            "deleting": false
          }
        }
      },
      "outputs": [],
      "source": [
        "subscription_id = \"SUBSCRIPTION_ID\"\n",
        "resource_group = \"RESOURCE_GROUP\"\n",
        "workspace = \"AML_WORKSPACE_NAME\"\n",
        "\n",
        "ml_client = MLClient(\n",
        "    DefaultAzureCredential(),\n",
        "    subscription_id,\n",
        "    resource_group,\n",
        "    workspace,\n",
        ")\n",
        "\n",
        "azureml_mlflow_uri = ml_client.workspaces.get(\n",
        "    ml_client.workspace_name\n",
        ").mlflow_tracking_uri\n",
        "\n",
        "mlflow.set_tracking_uri(azureml_mlflow_uri)"
      ]
    },
    {
      "cell_type": "code",
      "execution_count": null,
      "metadata": {
        "gather": {
          "logged": 1680619850099
        },
        "jupyter": {
          "outputs_hidden": false,
          "source_hidden": false
        },
        "nteract": {
          "transient": {
            "deleting": false
          }
        }
      },
      "outputs": [],
      "source": [
        "exp = mlflow.set_experiment(\"chapter5-lightgbm-notebook\")"
      ]
    },
    {
      "cell_type": "code",
      "execution_count": null,
      "metadata": {
        "gather": {
          "logged": 1680619853717
        },
        "jupyter": {
          "outputs_hidden": false,
          "source_hidden": false
        },
        "nteract": {
          "transient": {
            "deleting": false
          }
        }
      },
      "outputs": [],
      "source": [
        "# データをpandas データフレームとして読み込み\n",
        "credit_df = pd.read_excel(\n",
        "    \"https://archive.ics.uci.edu/ml/machine-learning-databases/00350/default%20of%20credit%20card%20clients.xls\",\n",
        "    header=1,\n",
        "    index_col=0\n",
        ")\n",
        "\n",
        "# 分割\n",
        "_df, test_df = train_test_split(\n",
        "    credit_df,\n",
        "    test_size=0.2,\n",
        ")\n",
        "\n",
        "train_df, valid_df = train_test_split(\n",
        "    _df,\n",
        "    test_size=0.2,\n",
        ")\n",
        "\n",
        "# 加工\n",
        "y_train = train_df.pop(\"default payment next month\")\n",
        "X_train = train_df.values\n",
        "train_dataset = lgb.Dataset(X_train, label=y_train)\n",
        "\n",
        "y_valid = valid_df.pop(\"default payment next month\")\n",
        "X_valid = valid_df.values\n",
        "valid_dataset = lgb.Dataset(X_valid, label=y_valid)\n",
        "\n",
        "y_test = test_df.pop(\"default payment next month\")\n",
        "X_test = test_df.values"
      ]
    },
    {
      "cell_type": "code",
      "execution_count": null,
      "metadata": {
        "gather": {
          "logged": 1680619854409
        },
        "jupyter": {
          "outputs_hidden": false,
          "source_hidden": false
        },
        "nteract": {
          "transient": {
            "deleting": false
          }
        }
      },
      "outputs": [],
      "source": [
        "run = mlflow.start_run()"
      ]
    },
    {
      "cell_type": "code",
      "execution_count": null,
      "metadata": {
        "gather": {
          "logged": 1680619854514
        },
        "jupyter": {
          "outputs_hidden": false,
          "source_hidden": false
        },
        "nteract": {
          "transient": {
            "deleting": false
          }
        }
      },
      "outputs": [],
      "source": [
        "params = {\n",
        "    \"objective\": \"binary\",\n",
        "    \"boosting_type\": \"gbdt\",\n",
        "    \"num_leaves\": 20,\n",
        "    \"max_depth\": 10,\n",
        "    \"learning_rate\": 0.1,\n",
        "    \"device_type\": \"cpu\",\n",
        "    \"seed\": 42,\n",
        "    \"deterministic\": True,\n",
        "}\n",
        "mlflow.log_params(params)"
      ]
    },
    {
      "cell_type": "code",
      "execution_count": null,
      "metadata": {
        "gather": {
          "logged": 1680619854608
        },
        "jupyter": {
          "outputs_hidden": false,
          "source_hidden": false
        },
        "nteract": {
          "transient": {
            "deleting": false
          }
        }
      },
      "outputs": [],
      "source": [
        "def log_metrics() -> Callable[[lgb.callback.CallbackEnv], None]:\n",
        "    def _callback(env: lgb.callback.CallbackEnv) -> None:\n",
        "        mlflow.log_metric(env.evaluation_result_list[0][1], env.evaluation_result_list[0][2])\n",
        "        print(f\"iteration {env.iteration} {env.evaluation_result_list[0][1]}: {env.evaluation_result_list[0][2]}\")\n",
        "    _callback.order = 10\n",
        "    return _callback"
      ]
    },
    {
      "cell_type": "code",
      "execution_count": null,
      "metadata": {
        "gather": {
          "logged": 1680619901429
        },
        "jupyter": {
          "outputs_hidden": false,
          "source_hidden": false
        },
        "nteract": {
          "transient": {
            "deleting": false
          }
        }
      },
      "outputs": [],
      "source": [
        "clf = lgb.train(\n",
        "    params,\n",
        "    train_set=train_dataset,\n",
        "    valid_sets=[valid_dataset],\n",
        "    valid_names=['valid'],\n",
        "    callbacks=[log_metrics(), lgb.early_stopping(stopping_rounds=10, verbose=True)]\n",
        ")"
      ]
    },
    {
      "cell_type": "code",
      "execution_count": null,
      "metadata": {
        "gather": {
          "logged": 1680620033411
        },
        "jupyter": {
          "outputs_hidden": false,
          "source_hidden": false
        },
        "nteract": {
          "transient": {
            "deleting": false
          }
        }
      },
      "outputs": [],
      "source": [
        "y_prob = clf.predict(X_test)\n",
        "y_pred = [1 if y_prob >= 0.5 else 0 for y_prob in y_prob]\n",
        "\n",
        "result = classification_report(y_test, y_pred, output_dict=True)\n",
        "print(result)\n",
        "mlflow.log_metrics(result[\"0\"])"
      ]
    },
    {
      "cell_type": "code",
      "execution_count": null,
      "metadata": {
        "gather": {
          "logged": 1680620036409
        },
        "jupyter": {
          "outputs_hidden": false,
          "source_hidden": false
        },
        "nteract": {
          "transient": {
            "deleting": false
          }
        }
      },
      "outputs": [],
      "source": [
        "model_path = \"model.txt\"\n",
        "clf.save_model(model_path)\n",
        "\n",
        "artifacts = {\"lgb_model_path\": model_path}\n",
        "\n",
        "signature = mlflow.models.signature.infer_signature(X_test, y_prob)"
      ]
    },
    {
      "cell_type": "code",
      "execution_count": null,
      "metadata": {
        "gather": {
          "logged": 1680620036526
        },
        "jupyter": {
          "outputs_hidden": false,
          "source_hidden": false
        },
        "nteract": {
          "transient": {
            "deleting": false
          }
        }
      },
      "outputs": [],
      "source": [
        "class LGBWrapper(mlflow.pyfunc.PythonModel):\n",
        "    def load_context(self, context):\n",
        "        import lightgbm as lgb\n",
        "        self.lgb_model = lgb.Booster(model_file=context.artifacts[\"lgb_model_path\"])\n",
        "\n",
        "    def predict(self, context, model_input):\n",
        "        return self.lgb_model.predict(model_input)"
      ]
    },
    {
      "cell_type": "code",
      "execution_count": null,
      "metadata": {
        "gather": {
          "logged": 1680620030695
        },
        "jupyter": {
          "outputs_hidden": false,
          "source_hidden": false
        },
        "nteract": {
          "transient": {
            "deleting": false
          }
        }
      },
      "outputs": [],
      "source": [
        "mlflow_model_dir = 'lgb_model'\n",
        "mlflow.pyfunc.log_model(\n",
        "    artifact_path=mlflow_model_dir,\n",
        "    python_model=LGBWrapper(),\n",
        "    conda_env='src/environment.yaml',\n",
        "    artifacts=artifacts,\n",
        "    signature=signature,\n",
        ")\n"
      ]
    },
    {
      "cell_type": "code",
      "execution_count": null,
      "metadata": {
        "gather": {
          "logged": 1680619904533
        },
        "jupyter": {
          "outputs_hidden": false,
          "source_hidden": false
        },
        "nteract": {
          "transient": {
            "deleting": false
          }
        }
      },
      "outputs": [],
      "source": [
        "mlflow.end_run()"
      ]
    },
    {
      "cell_type": "code",
      "execution_count": null,
      "metadata": {
        "gather": {
          "logged": 1680620030716
        },
        "jupyter": {
          "outputs_hidden": false,
          "source_hidden": false
        },
        "nteract": {
          "transient": {
            "deleting": false
          }
        }
      },
      "outputs": [],
      "source": [
        "loaded_model = mlflow.pyfunc.load_model(model_uri=f\"runs:/{run.info.run_id}/{mlflow_model_dir}/\")"
      ]
    },
    {
      "cell_type": "code",
      "execution_count": null,
      "metadata": {
        "gather": {
          "logged": 1680620039693
        },
        "jupyter": {
          "outputs_hidden": false,
          "source_hidden": false
        },
        "nteract": {
          "transient": {
            "deleting": false
          }
        }
      },
      "outputs": [],
      "source": [
        "print(clf.predict(X_test))\n",
        "print(loaded_model.predict(X_test))"
      ]
    },
    {
      "cell_type": "code",
      "execution_count": null,
      "metadata": {
        "gather": {
          "logged": 1680620030785
        },
        "jupyter": {
          "outputs_hidden": false,
          "source_hidden": false
        },
        "nteract": {
          "transient": {
            "deleting": false
          }
        }
      },
      "outputs": [],
      "source": [
        "mlflow.register_model(\n",
        "    model_uri=f\"runs:/{run.info.run_id}/{mlflow_model_dir}/\",\n",
        "    name='chapter5-pyfunc-model'\n",
        ")"
      ]
    },
    {
      "cell_type": "code",
      "execution_count": null,
      "metadata": {
        "jupyter": {
          "outputs_hidden": false,
          "source_hidden": false
        },
        "nteract": {
          "transient": {
            "deleting": false
          }
        }
      },
      "outputs": [],
      "source": []
    }
  ],
  "metadata": {
    "kernel_info": {
      "name": "py310-chapter5-env"
    },
    "kernelspec": {
      "display_name": "py310-chapter5-env",
      "language": "python",
      "name": "py310-chapter5-env"
    },
    "language_info": {
      "codemirror_mode": {
        "name": "ipython",
        "version": 3
      },
      "file_extension": ".py",
      "mimetype": "text/x-python",
      "name": "python",
      "nbconvert_exporter": "python",
      "pygments_lexer": "ipython3",
      "version": "3.10.10"
    },
    "microsoft": {
      "host": {
        "AzureML": {
          "notebookHasBeenCompleted": true
        }
      }
    },
    "nteract": {
      "version": "nteract-front-end@1.0.0"
    }
  },
  "nbformat": 4,
  "nbformat_minor": 2
}
