{
  "cells": [
    {
      "cell_type": "code",
      "execution_count": null,
      "metadata": {
        "gather": {
          "logged": 1684466472476
        }
      },
      "outputs": [],
      "source": [
        "from azure.ai.ml import MLClient\n",
        "from azure.identity import DefaultAzureCredential\n",
        "credential = DefaultAzureCredential()"
      ]
    },
    {
      "cell_type": "code",
      "execution_count": null,
      "metadata": {
        "gather": {
          "logged": 1684466472979
        },
        "jupyter": {
          "outputs_hidden": false,
          "source_hidden": false
        },
        "nteract": {
          "transient": {
            "deleting": false
          }
        }
      },
      "outputs": [],
      "source": [
        "ml_client = MLClient(\n",
        "    credential=credential,\n",
        "    subscription_id=\"<SUBSCRIPTION_ID>\",\n",
        "    resource_group_name=\"<RESOURCE_GROUP>\",\n",
        "    workspace_name=\"<AML_WORKSPACE_NAME>\",\n",
        ")"
      ]
    },
    {
      "cell_type": "code",
      "execution_count": null,
      "metadata": {
        "gather": {
          "logged": 1684466473364
        },
        "jupyter": {
          "outputs_hidden": false,
          "source_hidden": false
        },
        "nteract": {
          "transient": {
            "deleting": false
          }
        }
      },
      "outputs": [],
      "source": [
        "from azure.ai.ml.entities import AmlCompute\n",
        "\n",
        "# コンピューティングクラスターの名前を設定\n",
        "cpu_compute_target = \"cpu-cluster\"\n",
        "\n",
        "try:\n",
        "    # 同名のコンピューティングクラスターが作成されているか確認\n",
        "    cpu_cluster = ml_client.compute.get(cpu_compute_target)\n",
        "    print(\n",
        "        f\"{cpu_compute_target}と同一名称のクラスタが存在するので既存クラスタを使用します\"\n",
        "    )\n",
        "\n",
        "except Exception:\n",
        "    print(\"新しいコンピューティングクラスターを作成します\")\n",
        "\n",
        "    # コンピューティングクラスター作成のためのパラメータ指定\n",
        "    cpu_cluster = AmlCompute(\n",
        "        name=cpu_compute_target ,\n",
        "        # オンデマンドタイプのVM指定\n",
        "        type=\"amlcompute\",\n",
        "        # VMサイズ\n",
        "        size=\"Standard_D2s_v3\",\n",
        "        # 最小ノード数\n",
        "        min_instances=0,\n",
        "        # 最大ノード数\n",
        "        max_instances=3,\n",
        "        # クラスタをスケールダウンするまでのノードのアイドル時間(秒)\n",
        "        idle_time_before_scale_down=180,\n",
        "        # VM優先度レベル(LowPriority(低優先度)はプリエンティブルVMですが、Dedicated(専用)よりコスト安)\n",
        "        tier=\"Dedicated\",\n",
        "    )\n",
        "    print(\n",
        "    f\"クラスタ名 {cpu_cluster.name} 、VMサイズ{cpu_cluster.size}でクラスタ作成します\"\n",
        "    )\n",
        "    # クラスタ作成開始\n",
        "    cpu_cluster = ml_client.compute.begin_create_or_update(cpu_cluster)\n"
      ]
    },
    {
      "cell_type": "code",
      "execution_count": null,
      "metadata": {
        "gather": {
          "logged": 1684466473446
        },
        "jupyter": {
          "outputs_hidden": false,
          "source_hidden": false
        },
        "nteract": {
          "transient": {
            "deleting": false
          }
        }
      },
      "outputs": [],
      "source": [
        "import os\n",
        "\n",
        "dependencies_dir = \"./dependencies\"\n",
        "os.makedirs(dependencies_dir , exist_ok=True)"
      ]
    },
    {
      "cell_type": "code",
      "execution_count": null,
      "metadata": {
        "jupyter": {
          "outputs_hidden": false,
          "source_hidden": false
        },
        "nteract": {
          "transient": {
            "deleting": false
          }
        }
      },
      "outputs": [],
      "source": [
        "%%writefile {dependencies_dir}/conda.yml\n",
        "name: model-env\n",
        "channels:\n",
        "    - conda-forge\n",
        "dependencies:\n",
        "    - python=3.8\n",
        "    - numpy=1.21.2\n",
        "    - pip=21.2.4\n",
        "    - scikit-learn=0.24.2\n",
        "    - scipy=1.7.1\n",
        "    - pandas>=1.1,<1.2\n",
        "    - pip:\n",
        "        - inference-schema[numpy-support]==1.3.0\n",
        "        - xlrd==2.0.1\n",
        "        - mlflow== 1.26.1\n",
        "        - azureml-mlflow==1.42.0\n",
        "        - psutil>=5.8,<5.9\n",
        "        - tqdm>=4.59,<4.60\n",
        "        - ipykernel~=6.0\n",
        "        - matplotlib"
      ]
    },
    {
      "cell_type": "code",
      "execution_count": null,
      "metadata": {
        "gather": {
          "logged": 1684466474801
        },
        "jupyter": {
          "outputs_hidden": false,
          "source_hidden": false
        },
        "nteract": {
          "transient": {
            "deleting": false
          }
        }
      },
      "outputs": [],
      "source": [
        "from azure.ai.ml.entities import Environment\n",
        "\n",
        "custom_env_name = \"aml-scikit-learn\"\n",
        "\n",
        "pipeline_job_env = Environment(\n",
        "    name=custom_env_name ,\n",
        "    description=\"クレジットカードのデフォルトを推論するモデルを学習するためのカスタム環境\",\n",
        "    tags={\"scikit-learn\": \"0.24.2\"},\n",
        "    conda_file=os.path.join(dependencies_dir , \"conda.yml\"),\n",
        "    image=\"mcr.microsoft.com/azureml/openmpi3.1.2-ubuntu18.04:latest\",\n",
        ")\n",
        "pipeline_job_env = ml_client.environments.create_or_update(pipeline_job_env)\n",
        "\n",
        "print(\n",
        "    f\"{pipeline_job_env.name} 環境をAzureMLワークスペースへ登録しました。環境バージョンは {pipeline_job_env.version} です。\"\n",
        ")"
      ]
    },
    {
      "cell_type": "code",
      "execution_count": null,
      "metadata": {
        "gather": {
          "logged": 1684466474866
        },
        "jupyter": {
          "outputs_hidden": false,
          "source_hidden": false
        },
        "nteract": {
          "transient": {
            "deleting": false
          }
        }
      },
      "outputs": [],
      "source": [
        "import os\n",
        "\n",
        "train_src_dir = \"./src\"\n",
        "os.makedirs(train_src_dir , exist_ok=True)"
      ]
    },
    {
      "cell_type": "code",
      "execution_count": null,
      "metadata": {
        "jupyter": {
          "outputs_hidden": false,
          "source_hidden": false
        },
        "nteract": {
          "transient": {
            "deleting": false
          }
        }
      },
      "outputs": [],
      "source": [
        "%%writefile {train_src_dir}/main.py\n",
        "import os\n",
        "import argparse\n",
        "import pandas as pd\n",
        "import mlflow\n",
        "import mlflow.sklearn\n",
        "from sklearn.ensemble import GradientBoostingClassifier\n",
        "from sklearn.metrics import classification_report\n",
        "from sklearn.model_selection import train_test_split\n",
        "\n",
        "def main():\n",
        "    \"\"\"メイン関数\"\"\"\n",
        "    #パラメータ\n",
        "    parser = argparse.ArgumentParser()\n",
        "\n",
        "    parser.add_argument(\"--data\", type=str, help=\"入力データのパス\")\n",
        "    parser.add_argument(\"--test_train_ratio\", type=float , required=False , default=0.25)\n",
        "    parser.add_argument(\"--n_estimators\", required=False, default=100, type=int)\n",
        "    parser.add_argument(\"--learning_rate\", required=False, default=0.1, type=float )\n",
        "    parser.add_argument(\"--registered_model_name\", type=str, help=\"登録するモデル名\")\n",
        "    args = parser.parse_args()\n",
        "    \n",
        "    # ロギング開始\n",
        "    mlflow.start_run()\n",
        "    # 自動ロギング有効化\n",
        "    mlflow.sklearn.autolog()\n",
        "\n",
        "    ###################\n",
        "    #<データ準備>\n",
        "    ###################\n",
        "    print(\"␣\".join(f\"{k}={v}\" for k, v in vars(args).items()))\n",
        "    print(\"入力データ:\", args.data)\n",
        "    credit_df=pd.read_excel(args.data, header=1, index_col=0)\n",
        "\n",
        "    train_df, test_df=train_test_split(\n",
        "        credit_df ,\n",
        "        test_size=args.test_train_ratio,\n",
        "    )\n",
        "    ####################\n",
        "    #</データ準備>\n",
        "    ####################\n",
        "\n",
        "    ##################\n",
        "    #<学習>\n",
        "    ##################\n",
        "    # 学習データからターゲット列を取得\n",
        "    y_train = train_df.pop(\"default payment next month\")\n",
        "\n",
        "    # array型へ変換\n",
        "    X_train = train_df.values\n",
        "\n",
        "    # テストデータからターゲット列を取得\n",
        "    y_test = test_df.pop(\"default payment next month\")\n",
        "\n",
        "    # array型へ変換\n",
        "    X_test = test_df.values\n",
        "    print(f\"学習データの形状{X_train.shape}\")\n",
        "    \n",
        "    clf = GradientBoostingClassifier(\n",
        "        n_estimators=args.n_estimators, learning_rate=args.learning_rate\n",
        "    )\n",
        "    clf.fit(X_train , y_train)\n",
        "\n",
        "    y_pred = clf.predict(X_test)\n",
        "    print(classification_report(y_test, y_pred))\n",
        "    ###################\n",
        "    #</学習>\n",
        "    ###################\n",
        "\n",
        "    ##########################\n",
        "    #<モデル登録>\n",
        "    ##########################\n",
        "    # 学習済みモデルをAzureMLワークスペースへ登録\n",
        "    print(\"MLflowでモデル登録\")\n",
        "    mlflow.sklearn.log_model(\n",
        "        sk_model=clf,\n",
        "        registered_model_name=args.registered_model_name,\n",
        "        artifact_path=args.registered_model_name,\n",
        "    )\n",
        "    ###########################\n",
        "    #</モデル登録>\n",
        "    ###########################\n",
        "    # ロギング停止\n",
        "    mlflow.end_run()\n",
        "\n",
        "if __name__ == \"__main__\":\n",
        "    main()\n"
      ]
    },
    {
      "cell_type": "code",
      "execution_count": null,
      "metadata": {
        "gather": {
          "logged": 1684466474990
        },
        "jupyter": {
          "outputs_hidden": false,
          "source_hidden": false
        },
        "nteract": {
          "transient": {
            "deleting": false
          }
        }
      },
      "outputs": [],
      "source": [
        "from azure.ai.ml import command\n",
        "from azure.ai.ml import Input\n",
        "\n",
        "registered_model_name = \"credit_defaults_model\"\n",
        "\n",
        "job = command(\n",
        "    # 学習スクリプトの引数\n",
        "    inputs=dict(\n",
        "        # 学習データのパス\n",
        "        data=Input(\n",
        "            type=\"uri_file\",\n",
        "            path=\"https://archive.ics.uci.edu/ml/machine-learning-databases/00350/default%20of%20credit%20card%20clients.xls\",\n",
        "        ),\n",
        "        # テストデータの分割率\n",
        "        test_train_ratio=0.2,\n",
        "        # 習率\n",
        "        learning_rate=0.25,\n",
        "        # 登録するモデル名\n",
        "        registered_model_name=registered_model_name,\n",
        "    ),\n",
        "    # 学習スクリプトの格納場所\n",
        "    code=\"./src/\",\n",
        "    # 学習スクリプトの実行コマンド\n",
        "    command=\"python main.py --data ${{inputs.data}} --test_train_ratio ${{inputs.test_train_ratio}} --learning_rate ${{inputs.learning_rate}} --registered_model_name ${{inputs.registered_model_name}}\",\n",
        "    # 環境 (@latestで最新版を指定。:バージョン数でバージョン指定も可)\n",
        "    environment=\"aml-scikit-learn@latest\",\n",
        "    # 学習先のコンピューティングクラスター\n",
        "    compute=\"cpu-cluster\",\n",
        "    # 実験名\n",
        "    experiment_name=\"train_model_credit_default_prediction\",\n",
        "    # ジョブの表示名\n",
        "    display_name=\"credit_default_prediction\",\n",
        ")"
      ]
    },
    {
      "cell_type": "code",
      "execution_count": null,
      "metadata": {
        "gather": {
          "logged": 1684466799636
        },
        "jupyter": {
          "outputs_hidden": false,
          "source_hidden": false
        },
        "nteract": {
          "transient": {
            "deleting": false
          }
        }
      },
      "outputs": [],
      "source": [
        "job = ml_client.create_or_update(job)\n",
        "# ジョブ実行が完了するまで待機\n",
        "ml_client.jobs.stream(job.name)"
      ]
    },
    {
      "cell_type": "code",
      "execution_count": null,
      "metadata": {
        "gather": {
          "logged": 1684467111801
        },
        "jupyter": {
          "outputs_hidden": false,
          "source_hidden": false
        },
        "nteract": {
          "transient": {
            "deleting": false
          }
        }
      },
      "outputs": [],
      "source": [
        "import uuid\n",
        "\n",
        "# ユニークなエンドポイント名を作成\n",
        "online_endpoint_name = \"credit-endpoint-\" + str(uuid.uuid4())[:8]\n",
        "\n",
        "from azure.ai.ml.entities import (\n",
        "    ManagedOnlineEndpoint,\n",
        "    ManagedOnlineDeployment,\n",
        "    Model,\n",
        "    Environment,\n",
        ")\n",
        "\n",
        "# マネージドオンラインエンドポイントを作成\n",
        "endpoint = ManagedOnlineEndpoint(\n",
        "    name=online_endpoint_name,\n",
        "    description=\"クレジットカードのデフォルト推論用のマネージドオンラインエンドポイント\",\n",
        "    auth_mode=\"key\",\n",
        "    tags ={\n",
        "        \"training_dataset\": \"credit_defaults\",\n",
        "        \"model_type\": \"sklearn.GradientBoostingClassifier\",\n",
        "    },\n",
        ")\n",
        "\n",
        "endpoint = ml_client.online_endpoints.begin_create_or_update(endpoint).result()\n",
        "\n",
        "print(f\"エンドポイント名 {endpoint.name} プロビジョニングステータス: {endpoint.provisioning_state}\")\n"
      ]
    },
    {
      "cell_type": "code",
      "execution_count": null,
      "metadata": {
        "gather": {
          "logged": 1684467111941
        },
        "jupyter": {
          "outputs_hidden": false,
          "source_hidden": false
        },
        "nteract": {
          "transient": {
            "deleting": false
          }
        }
      },
      "outputs": [],
      "source": [
        "endpoint = ml_client.online_endpoints.get(name=online_endpoint_name)\n",
        "print(\n",
        "    f'ステータスが \"{endpoint.provisioning_state}\" のエンドポイント \"{endpoint.name}\" を取得'\n",
        ")"
      ]
    },
    {
      "cell_type": "code",
      "execution_count": null,
      "metadata": {
        "gather": {
          "logged": 1684467588913
        },
        "jupyter": {
          "outputs_hidden": false,
          "source_hidden": false
        },
        "nteract": {
          "transient": {
            "deleting": false
          }
        }
      },
      "outputs": [],
      "source": [
        "# モデルの最新のバージョン番号取得 \n",
        "latest_model_version = max(\n",
        "    [int(m.version) for m in ml_client.models.list(name=registered_model_name)]\n",
        ")\n",
        "print(f'Latest model is version \"{latest_model_version}\" ')\n",
        "\n",
        "# デプロイするモデルを選択、登録済みモデルの最新バージョンを使用\n",
        "model = ml_client.models.get(name=registered_model_name, version=latest_model_version)\n",
        "\n",
        "# マネージドオンラインエンドポイントへのデプロイメントを作成\n",
        "blue_deployment = ManagedOnlineDeployment(\n",
        "    name=\"blue\",\n",
        "    endpoint_name=online_endpoint_name,\n",
        "    model=model,\n",
        "    instance_type=\"Standard_DS3_v2\",\n",
        "    instance_count=1,\n",
        ")\n",
        "\n",
        "# デプロイ実行\n",
        "blue_deployment = ml_client.begin_create_or_update(blue_deployment).result()"
      ]
    },
    {
      "cell_type": "code",
      "execution_count": null,
      "metadata": {
        "gather": {
          "logged": 1684467664583
        },
        "jupyter": {
          "outputs_hidden": false,
          "source_hidden": false
        },
        "nteract": {
          "transient": {
            "deleting": false
          }
        }
      },
      "outputs": [],
      "source": [
        "deploy_dir = \"./deploy\"\n",
        "os.makedirs(deploy_dir, exist_ok=True)"
      ]
    },
    {
      "cell_type": "code",
      "execution_count": null,
      "metadata": {
        "jupyter": {
          "outputs_hidden": false,
          "source_hidden": false
        },
        "nteract": {
          "transient": {
            "deleting": false
          }
        }
      },
      "outputs": [],
      "source": [
        "%%writefile {deploy_dir}/sample-request.json\n",
        "{\n",
        "  \"input_data\": {\n",
        "    \"columns\": [0,1,2,3,4,5,6,7,8,9,10,11,12,13,14,15,16,17,18,19,20,21,22],\n",
        "    \"index\": [0, 1],\n",
        "    \"data\": [\n",
        "            [20000,2,2,1,24,2,2,-1,-1,-2,-2,3913,3102,689,0,0,0,0,689,0,0,0,0],\n",
        "            [10, 9, 8, 7, 6, 5, 4, 3, 2, 1, 10, 9, 8, 7, 6, 5, 4, 3, 2, 1, 10, 9, 8]\n",
        "        ]\n",
        "  }\n",
        "}"
      ]
    },
    {
      "cell_type": "code",
      "execution_count": null,
      "metadata": {
        "gather": {
          "logged": 1684467685154
        },
        "jupyter": {
          "outputs_hidden": false,
          "source_hidden": false
        },
        "nteract": {
          "transient": {
            "deleting": false
          }
        }
      },
      "outputs": [],
      "source": [
        "# マネージドオンラインエンドポイントで推論実行\n",
        "ml_client.online_endpoints.invoke(\n",
        "    endpoint_name=online_endpoint_name,\n",
        "    request_file=\"./deploy/sample-request.json\",\n",
        "    deployment_name=\"blue\",\n",
        ")"
      ]
    },
    {
      "cell_type": "code",
      "execution_count": null,
      "metadata": {
        "gather": {
          "logged": 1684467689974
        },
        "jupyter": {
          "outputs_hidden": false,
          "source_hidden": false
        },
        "nteract": {
          "transient": {
            "deleting": false
          }
        }
      },
      "outputs": [
        {
          "name": "stdout",
          "output_type": "stream",
          "text": [
            "."
          ]
        }
      ],
      "source": [
        "ml_client.online_endpoints.begin_delete(name=online_endpoint_name)"
      ]
    },
    {
      "cell_type": "code",
      "execution_count": null,
      "metadata": {
        "jupyter": {
          "outputs_hidden": false,
          "source_hidden": false
        },
        "nteract": {
          "transient": {
            "deleting": false
          }
        }
      },
      "outputs": [],
      "source": []
    }
  ],
  "metadata": {
    "kernel_info": {
      "name": "python310-sdkv2"
    },
    "kernelspec": {
      "display_name": "Python 3.10 - SDK v2",
      "language": "python",
      "name": "python310-sdkv2"
    },
    "language_info": {
      "codemirror_mode": {
        "name": "ipython",
        "version": 3
      },
      "file_extension": ".py",
      "mimetype": "text/x-python",
      "name": "python",
      "nbconvert_exporter": "python",
      "pygments_lexer": "ipython3",
      "version": "3.10.10"
    },
    "microsoft": {
      "host": {
        "AzureML": {
          "notebookHasBeenCompleted": true
        }
      }
    },
    "nteract": {
      "version": "nteract-front-end@1.0.0"
    }
  },
  "nbformat": 4,
  "nbformat_minor": 2
}
